{
 "cells": [
  {
   "cell_type": "code",
   "execution_count": 1,
   "metadata": {},
   "outputs": [],
   "source": [
    "import numpy as np\n",
    "import pandas as pd\n",
    "import seaborn as sns\n",
    "import matplotlib.pyplot as plt\n",
    "from sklearn import svm\n",
    "from sklearn.model_selection import StratifiedShuffleSplit\n",
    "from sklearn.model_selection import GridSearchCV"
   ]
  },
  {
   "cell_type": "markdown",
   "metadata": {},
   "source": [
    "## Data processing"
   ]
  },
  {
   "cell_type": "code",
   "execution_count": 2,
   "metadata": {},
   "outputs": [],
   "source": [
    "df = pd.read_csv('data/nasa.csv')"
   ]
  },
  {
   "cell_type": "code",
   "execution_count": 3,
   "metadata": {},
   "outputs": [],
   "source": [
    "selected_features = ['Neo Reference ID', 'Est Dia in Feet(min)', 'Est Dia in Feet(max)', 'Epoch Date Close Approach', \n",
    "                     'Miles per hour', 'Miss Dist.(Astronomical)', 'Orbit ID', 'Orbit Uncertainity', \n",
    "                     'Minimum Orbit Intersection', \n",
    "                     'Jupiter Tisserand Invariant', 'Epoch Osculation', 'Eccentricity', 'Inclination', \n",
    "                     'Asc Node Longitude', 'Orbital Period', 'Perihelion Distance', 'Perihelion Arg', \n",
    "                     'Aphelion Dist', 'Perihelion Time', 'Mean Anomaly', 'Mean Motion']"
   ]
  },
  {
   "cell_type": "code",
   "execution_count": 4,
   "metadata": {},
   "outputs": [],
   "source": [
    "X_ = df.drop(columns=['Hazardous'])\n",
    "y_ = df['Hazardous']"
   ]
  },
  {
   "cell_type": "code",
   "execution_count": 5,
   "metadata": {},
   "outputs": [],
   "source": [
    "X = X_[selected_features]"
   ]
  },
  {
   "cell_type": "code",
   "execution_count": 6,
   "metadata": {},
   "outputs": [
    {
     "name": "stderr",
     "output_type": "stream",
     "text": [
      "c:\\users\\carsonw\\appdata\\local\\programs\\python\\python37\\lib\\site-packages\\ipykernel_launcher.py:2: SettingWithCopyWarning: \n",
      "A value is trying to be set on a copy of a slice from a DataFrame\n",
      "\n",
      "See the caveats in the documentation: http://pandas.pydata.org/pandas-docs/stable/user_guide/indexing.html#returning-a-view-versus-a-copy\n",
      "  \n"
     ]
    }
   ],
   "source": [
    "y = y_\n",
    "y[y_==True] = 1\n",
    "y[y_==False] = 0"
   ]
  },
  {
   "cell_type": "code",
   "execution_count": 7,
   "metadata": {},
   "outputs": [
    {
     "data": {
      "text/html": [
       "<div>\n",
       "<style scoped>\n",
       "    .dataframe tbody tr th:only-of-type {\n",
       "        vertical-align: middle;\n",
       "    }\n",
       "\n",
       "    .dataframe tbody tr th {\n",
       "        vertical-align: top;\n",
       "    }\n",
       "\n",
       "    .dataframe thead th {\n",
       "        text-align: right;\n",
       "    }\n",
       "</style>\n",
       "<table border=\"1\" class=\"dataframe\">\n",
       "  <thead>\n",
       "    <tr style=\"text-align: right;\">\n",
       "      <th></th>\n",
       "      <th>Neo Reference ID</th>\n",
       "      <th>Est Dia in Feet(min)</th>\n",
       "      <th>Est Dia in Feet(max)</th>\n",
       "      <th>Epoch Date Close Approach</th>\n",
       "      <th>Miles per hour</th>\n",
       "      <th>Miss Dist.(Astronomical)</th>\n",
       "      <th>Orbit ID</th>\n",
       "      <th>Orbit Uncertainity</th>\n",
       "      <th>Minimum Orbit Intersection</th>\n",
       "      <th>Jupiter Tisserand Invariant</th>\n",
       "      <th>...</th>\n",
       "      <th>Eccentricity</th>\n",
       "      <th>Inclination</th>\n",
       "      <th>Asc Node Longitude</th>\n",
       "      <th>Orbital Period</th>\n",
       "      <th>Perihelion Distance</th>\n",
       "      <th>Perihelion Arg</th>\n",
       "      <th>Aphelion Dist</th>\n",
       "      <th>Perihelion Time</th>\n",
       "      <th>Mean Anomaly</th>\n",
       "      <th>Mean Motion</th>\n",
       "    </tr>\n",
       "  </thead>\n",
       "  <tbody>\n",
       "    <tr>\n",
       "      <th>0</th>\n",
       "      <td>3703080</td>\n",
       "      <td>417.388066</td>\n",
       "      <td>933.308089</td>\n",
       "      <td>788947200000</td>\n",
       "      <td>13680.509944</td>\n",
       "      <td>0.419483</td>\n",
       "      <td>17</td>\n",
       "      <td>5</td>\n",
       "      <td>0.025282</td>\n",
       "      <td>4.634</td>\n",
       "      <td>...</td>\n",
       "      <td>0.425549</td>\n",
       "      <td>6.025981</td>\n",
       "      <td>314.373913</td>\n",
       "      <td>609.599786</td>\n",
       "      <td>0.808259</td>\n",
       "      <td>57.257470</td>\n",
       "      <td>2.005764</td>\n",
       "      <td>2.458162e+06</td>\n",
       "      <td>264.837533</td>\n",
       "      <td>0.590551</td>\n",
       "    </tr>\n",
       "    <tr>\n",
       "      <th>1</th>\n",
       "      <td>3723955</td>\n",
       "      <td>479.225620</td>\n",
       "      <td>1071.581063</td>\n",
       "      <td>788947200000</td>\n",
       "      <td>40519.173105</td>\n",
       "      <td>0.383014</td>\n",
       "      <td>21</td>\n",
       "      <td>3</td>\n",
       "      <td>0.186935</td>\n",
       "      <td>5.457</td>\n",
       "      <td>...</td>\n",
       "      <td>0.351674</td>\n",
       "      <td>28.412996</td>\n",
       "      <td>136.717242</td>\n",
       "      <td>425.869294</td>\n",
       "      <td>0.718200</td>\n",
       "      <td>313.091975</td>\n",
       "      <td>1.497352</td>\n",
       "      <td>2.457795e+06</td>\n",
       "      <td>173.741112</td>\n",
       "      <td>0.845330</td>\n",
       "    </tr>\n",
       "    <tr>\n",
       "      <th>2</th>\n",
       "      <td>2446862</td>\n",
       "      <td>759.521423</td>\n",
       "      <td>1698.341531</td>\n",
       "      <td>789552000000</td>\n",
       "      <td>16979.661798</td>\n",
       "      <td>0.050956</td>\n",
       "      <td>22</td>\n",
       "      <td>0</td>\n",
       "      <td>0.043058</td>\n",
       "      <td>4.557</td>\n",
       "      <td>...</td>\n",
       "      <td>0.348248</td>\n",
       "      <td>4.237961</td>\n",
       "      <td>259.475979</td>\n",
       "      <td>643.580228</td>\n",
       "      <td>0.950791</td>\n",
       "      <td>248.415038</td>\n",
       "      <td>1.966857</td>\n",
       "      <td>2.458120e+06</td>\n",
       "      <td>292.893654</td>\n",
       "      <td>0.559371</td>\n",
       "    </tr>\n",
       "    <tr>\n",
       "      <th>3</th>\n",
       "      <td>3092506</td>\n",
       "      <td>28.876199</td>\n",
       "      <td>64.569144</td>\n",
       "      <td>790156800000</td>\n",
       "      <td>24994.839864</td>\n",
       "      <td>0.285322</td>\n",
       "      <td>7</td>\n",
       "      <td>6</td>\n",
       "      <td>0.005512</td>\n",
       "      <td>5.093</td>\n",
       "      <td>...</td>\n",
       "      <td>0.216578</td>\n",
       "      <td>7.905894</td>\n",
       "      <td>57.173266</td>\n",
       "      <td>514.082140</td>\n",
       "      <td>0.983902</td>\n",
       "      <td>18.707701</td>\n",
       "      <td>1.527904</td>\n",
       "      <td>2.457902e+06</td>\n",
       "      <td>68.741007</td>\n",
       "      <td>0.700277</td>\n",
       "    </tr>\n",
       "    <tr>\n",
       "      <th>4</th>\n",
       "      <td>3514799</td>\n",
       "      <td>417.388066</td>\n",
       "      <td>933.308089</td>\n",
       "      <td>790156800000</td>\n",
       "      <td>22012.954985</td>\n",
       "      <td>0.407832</td>\n",
       "      <td>25</td>\n",
       "      <td>1</td>\n",
       "      <td>0.034798</td>\n",
       "      <td>5.154</td>\n",
       "      <td>...</td>\n",
       "      <td>0.210448</td>\n",
       "      <td>16.793382</td>\n",
       "      <td>84.629307</td>\n",
       "      <td>495.597821</td>\n",
       "      <td>0.967687</td>\n",
       "      <td>158.263596</td>\n",
       "      <td>1.483543</td>\n",
       "      <td>2.457814e+06</td>\n",
       "      <td>135.142133</td>\n",
       "      <td>0.726395</td>\n",
       "    </tr>\n",
       "    <tr>\n",
       "      <th>...</th>\n",
       "      <td>...</td>\n",
       "      <td>...</td>\n",
       "      <td>...</td>\n",
       "      <td>...</td>\n",
       "      <td>...</td>\n",
       "      <td>...</td>\n",
       "      <td>...</td>\n",
       "      <td>...</td>\n",
       "      <td>...</td>\n",
       "      <td>...</td>\n",
       "      <td>...</td>\n",
       "      <td>...</td>\n",
       "      <td>...</td>\n",
       "      <td>...</td>\n",
       "      <td>...</td>\n",
       "      <td>...</td>\n",
       "      <td>...</td>\n",
       "      <td>...</td>\n",
       "      <td>...</td>\n",
       "      <td>...</td>\n",
       "      <td>...</td>\n",
       "    </tr>\n",
       "    <tr>\n",
       "      <th>4682</th>\n",
       "      <td>3759007</td>\n",
       "      <td>144.723824</td>\n",
       "      <td>323.612307</td>\n",
       "      <td>1473318000000</td>\n",
       "      <td>49556.875548</td>\n",
       "      <td>0.041361</td>\n",
       "      <td>4</td>\n",
       "      <td>8</td>\n",
       "      <td>0.019777</td>\n",
       "      <td>5.156</td>\n",
       "      <td>...</td>\n",
       "      <td>0.361512</td>\n",
       "      <td>39.880491</td>\n",
       "      <td>164.183305</td>\n",
       "      <td>457.179984</td>\n",
       "      <td>0.741558</td>\n",
       "      <td>276.395697</td>\n",
       "      <td>1.581299</td>\n",
       "      <td>2.457708e+06</td>\n",
       "      <td>304.306025</td>\n",
       "      <td>0.787436</td>\n",
       "    </tr>\n",
       "    <tr>\n",
       "      <th>4683</th>\n",
       "      <td>3759295</td>\n",
       "      <td>19.977449</td>\n",
       "      <td>44.670934</td>\n",
       "      <td>1473318000000</td>\n",
       "      <td>7214.337772</td>\n",
       "      <td>0.006469</td>\n",
       "      <td>2</td>\n",
       "      <td>6</td>\n",
       "      <td>0.006451</td>\n",
       "      <td>5.742</td>\n",
       "      <td>...</td>\n",
       "      <td>0.073200</td>\n",
       "      <td>5.360249</td>\n",
       "      <td>345.225230</td>\n",
       "      <td>407.185767</td>\n",
       "      <td>0.996434</td>\n",
       "      <td>42.111064</td>\n",
       "      <td>1.153835</td>\n",
       "      <td>2.458088e+06</td>\n",
       "      <td>282.978786</td>\n",
       "      <td>0.884117</td>\n",
       "    </tr>\n",
       "    <tr>\n",
       "      <th>4684</th>\n",
       "      <td>3759714</td>\n",
       "      <td>251.501180</td>\n",
       "      <td>562.373736</td>\n",
       "      <td>1473318000000</td>\n",
       "      <td>16086.983633</td>\n",
       "      <td>0.061009</td>\n",
       "      <td>17</td>\n",
       "      <td>6</td>\n",
       "      <td>0.059973</td>\n",
       "      <td>4.410</td>\n",
       "      <td>...</td>\n",
       "      <td>0.368055</td>\n",
       "      <td>4.405467</td>\n",
       "      <td>37.026468</td>\n",
       "      <td>690.054279</td>\n",
       "      <td>0.965760</td>\n",
       "      <td>274.692712</td>\n",
       "      <td>2.090708</td>\n",
       "      <td>2.458300e+06</td>\n",
       "      <td>203.501147</td>\n",
       "      <td>0.521698</td>\n",
       "    </tr>\n",
       "    <tr>\n",
       "      <th>4685</th>\n",
       "      <td>3759720</td>\n",
       "      <td>380.662441</td>\n",
       "      <td>851.187094</td>\n",
       "      <td>1473318000000</td>\n",
       "      <td>25393.489071</td>\n",
       "      <td>0.260760</td>\n",
       "      <td>6</td>\n",
       "      <td>5</td>\n",
       "      <td>0.177510</td>\n",
       "      <td>4.477</td>\n",
       "      <td>...</td>\n",
       "      <td>0.202565</td>\n",
       "      <td>21.080244</td>\n",
       "      <td>163.802910</td>\n",
       "      <td>662.048343</td>\n",
       "      <td>1.185467</td>\n",
       "      <td>180.346090</td>\n",
       "      <td>1.787733</td>\n",
       "      <td>2.458288e+06</td>\n",
       "      <td>203.524965</td>\n",
       "      <td>0.543767</td>\n",
       "    </tr>\n",
       "    <tr>\n",
       "      <th>4686</th>\n",
       "      <td>3772978</td>\n",
       "      <td>1314.437764</td>\n",
       "      <td>2939.172192</td>\n",
       "      <td>1473318000000</td>\n",
       "      <td>80409.512650</td>\n",
       "      <td>0.462372</td>\n",
       "      <td>13</td>\n",
       "      <td>6</td>\n",
       "      <td>0.051777</td>\n",
       "      <td>4.108</td>\n",
       "      <td>...</td>\n",
       "      <td>0.405642</td>\n",
       "      <td>53.574923</td>\n",
       "      <td>187.642183</td>\n",
       "      <td>653.679098</td>\n",
       "      <td>0.876110</td>\n",
       "      <td>222.436688</td>\n",
       "      <td>2.071980</td>\n",
       "      <td>2.458319e+06</td>\n",
       "      <td>184.820424</td>\n",
       "      <td>0.550729</td>\n",
       "    </tr>\n",
       "  </tbody>\n",
       "</table>\n",
       "<p>4687 rows × 21 columns</p>\n",
       "</div>"
      ],
      "text/plain": [
       "      Neo Reference ID  Est Dia in Feet(min)  Est Dia in Feet(max)  \\\n",
       "0              3703080            417.388066            933.308089   \n",
       "1              3723955            479.225620           1071.581063   \n",
       "2              2446862            759.521423           1698.341531   \n",
       "3              3092506             28.876199             64.569144   \n",
       "4              3514799            417.388066            933.308089   \n",
       "...                ...                   ...                   ...   \n",
       "4682           3759007            144.723824            323.612307   \n",
       "4683           3759295             19.977449             44.670934   \n",
       "4684           3759714            251.501180            562.373736   \n",
       "4685           3759720            380.662441            851.187094   \n",
       "4686           3772978           1314.437764           2939.172192   \n",
       "\n",
       "      Epoch Date Close Approach  Miles per hour  Miss Dist.(Astronomical)  \\\n",
       "0                  788947200000    13680.509944                  0.419483   \n",
       "1                  788947200000    40519.173105                  0.383014   \n",
       "2                  789552000000    16979.661798                  0.050956   \n",
       "3                  790156800000    24994.839864                  0.285322   \n",
       "4                  790156800000    22012.954985                  0.407832   \n",
       "...                         ...             ...                       ...   \n",
       "4682              1473318000000    49556.875548                  0.041361   \n",
       "4683              1473318000000     7214.337772                  0.006469   \n",
       "4684              1473318000000    16086.983633                  0.061009   \n",
       "4685              1473318000000    25393.489071                  0.260760   \n",
       "4686              1473318000000    80409.512650                  0.462372   \n",
       "\n",
       "      Orbit ID  Orbit Uncertainity  Minimum Orbit Intersection  \\\n",
       "0           17                   5                    0.025282   \n",
       "1           21                   3                    0.186935   \n",
       "2           22                   0                    0.043058   \n",
       "3            7                   6                    0.005512   \n",
       "4           25                   1                    0.034798   \n",
       "...        ...                 ...                         ...   \n",
       "4682         4                   8                    0.019777   \n",
       "4683         2                   6                    0.006451   \n",
       "4684        17                   6                    0.059973   \n",
       "4685         6                   5                    0.177510   \n",
       "4686        13                   6                    0.051777   \n",
       "\n",
       "      Jupiter Tisserand Invariant  ...  Eccentricity  Inclination  \\\n",
       "0                           4.634  ...      0.425549     6.025981   \n",
       "1                           5.457  ...      0.351674    28.412996   \n",
       "2                           4.557  ...      0.348248     4.237961   \n",
       "3                           5.093  ...      0.216578     7.905894   \n",
       "4                           5.154  ...      0.210448    16.793382   \n",
       "...                           ...  ...           ...          ...   \n",
       "4682                        5.156  ...      0.361512    39.880491   \n",
       "4683                        5.742  ...      0.073200     5.360249   \n",
       "4684                        4.410  ...      0.368055     4.405467   \n",
       "4685                        4.477  ...      0.202565    21.080244   \n",
       "4686                        4.108  ...      0.405642    53.574923   \n",
       "\n",
       "      Asc Node Longitude  Orbital Period  Perihelion Distance  Perihelion Arg  \\\n",
       "0             314.373913      609.599786             0.808259       57.257470   \n",
       "1             136.717242      425.869294             0.718200      313.091975   \n",
       "2             259.475979      643.580228             0.950791      248.415038   \n",
       "3              57.173266      514.082140             0.983902       18.707701   \n",
       "4              84.629307      495.597821             0.967687      158.263596   \n",
       "...                  ...             ...                  ...             ...   \n",
       "4682          164.183305      457.179984             0.741558      276.395697   \n",
       "4683          345.225230      407.185767             0.996434       42.111064   \n",
       "4684           37.026468      690.054279             0.965760      274.692712   \n",
       "4685          163.802910      662.048343             1.185467      180.346090   \n",
       "4686          187.642183      653.679098             0.876110      222.436688   \n",
       "\n",
       "      Aphelion Dist  Perihelion Time  Mean Anomaly  Mean Motion  \n",
       "0          2.005764     2.458162e+06    264.837533     0.590551  \n",
       "1          1.497352     2.457795e+06    173.741112     0.845330  \n",
       "2          1.966857     2.458120e+06    292.893654     0.559371  \n",
       "3          1.527904     2.457902e+06     68.741007     0.700277  \n",
       "4          1.483543     2.457814e+06    135.142133     0.726395  \n",
       "...             ...              ...           ...          ...  \n",
       "4682       1.581299     2.457708e+06    304.306025     0.787436  \n",
       "4683       1.153835     2.458088e+06    282.978786     0.884117  \n",
       "4684       2.090708     2.458300e+06    203.501147     0.521698  \n",
       "4685       1.787733     2.458288e+06    203.524965     0.543767  \n",
       "4686       2.071980     2.458319e+06    184.820424     0.550729  \n",
       "\n",
       "[4687 rows x 21 columns]"
      ]
     },
     "execution_count": 7,
     "metadata": {},
     "output_type": "execute_result"
    }
   ],
   "source": [
    "X"
   ]
  },
  {
   "cell_type": "code",
   "execution_count": 8,
   "metadata": {},
   "outputs": [
    {
     "name": "stderr",
     "output_type": "stream",
     "text": [
      "c:\\users\\carsonw\\appdata\\local\\programs\\python\\python37\\lib\\site-packages\\seaborn\\_decorators.py:43: FutureWarning: Pass the following variable as a keyword arg: x. From version 0.12, the only valid positional argument will be `data`, and passing other arguments without an explicit keyword will result in an error or misinterpretation.\n",
      "  FutureWarning\n"
     ]
    },
    {
     "data": {
      "image/png": "[encoded data removed]",
      "text/plain": [
       "<Figure size 432x288 with 1 Axes>"
      ]
     },
     "metadata": {
      "needs_background": "light"
     },
     "output_type": "display_data"
    }
   ],
   "source": [
    "sns.countplot(y);"
   ]
  },
  {
   "cell_type": "code",
   "execution_count": 9,
   "metadata": {},
   "outputs": [
    {
     "data": {
      "text/plain": [
       "array([[0.95575717, 0.00810149, 0.00810149, ..., 0.92250213, 0.7358251 ,\n",
       "        0.25823873],\n",
       "       [0.96747507, 0.00931136, 0.00931136, ..., 0.88054178, 0.48271958,\n",
       "        0.38871266],\n",
       "       [0.2505967 , 0.01479545, 0.01479545, ..., 0.91779034, 0.81377721,\n",
       "        0.24227093],\n",
       "       ...,\n",
       "       [0.98754788, 0.00485585, 0.00485585, ..., 0.93839013, 0.56540591,\n",
       "        0.22297844],\n",
       "       [0.98755125, 0.00738294, 0.00738294, ..., 0.9369919 , 0.56547209,\n",
       "        0.23428006],\n",
       "       [0.99499344, 0.0256526 , 0.0256526 , ..., 0.94046222, 0.51350273,\n",
       "        0.23784536]])"
      ]
     },
     "execution_count": 9,
     "metadata": {},
     "output_type": "execute_result"
    }
   ],
   "source": [
    "# # X_ = (X-np.min(X))/(np.max(X) - np.min(X))\n",
    "# X = np.asarray(X)\n",
    "# X_ = np.zeros(X.shape)\n",
    "# for j in range(X.shape[1]):\n",
    "#     X_[:,j] = X[:,j]/np.linalg.norm(X[:,j])\n",
    "# X_\n",
    "from sklearn.preprocessing import MinMaxScaler\n",
    "scaler = MinMaxScaler(feature_range=(0, 1))\n",
    "X_ = scaler.fit_transform(X)\n",
    "X_"
   ]
  },
  {
   "cell_type": "code",
   "execution_count": 10,
   "metadata": {},
   "outputs": [
    {
     "name": "stdout",
     "output_type": "stream",
     "text": [
      "(3280, 21)\n",
      "(1407, 21)\n",
      "(3280,)\n",
      "(1407,)\n"
     ]
    }
   ],
   "source": [
    "X_train = np.asarray(X_)[:int(0.7*len(X_)), :]\n",
    "y_train = np.asarray(y)[:int(0.7*len(X_))]\n",
    "# y_train = y_train.reshape((y_train.shape[0],1))\n",
    "\n",
    "X_test = np.asarray(X_)[int(0.7*len(X_)):, :]\n",
    "y_test = np.asarray(y)[int(0.7*len(X_)):]\n",
    "# y_test = y_test.reshape((y_test.shape[0],1))\n",
    "\n",
    "print(X_train.shape)\n",
    "print(X_test.shape)\n",
    "print(y_train.shape)\n",
    "print(y_test.shape)"
   ]
  },
  {
   "cell_type": "markdown",
   "metadata": {},
   "source": [
    "### 1. Kernel = rbf\n",
    "\n",
    "$K(u,v) = \\exp(-\\gamma||u-v||^2)$"
   ]
  },
  {
   "cell_type": "code",
   "execution_count": 46,
   "metadata": {},
   "outputs": [],
   "source": [
    "# n = 7\n",
    "# C_range = np.logspace(-5, 7, n)\n",
    "# gamma_range = np.logspace(-5, 7, n)\n",
    "# scores = np.zeros((n,n))\n",
    "\n",
    "n = 11\n",
    "C_range = np.logspace(-3, 7, n)\n",
    "gamma_range = np.logspace(-6, 4, n)\n",
    "scores = np.zeros((n,n))"
   ]
  },
  {
   "cell_type": "code",
   "execution_count": 47,
   "metadata": {
    "scrolled": false
   },
   "outputs": [
    {
     "name": "stdout",
     "output_type": "stream",
     "text": [
      "0 0\n",
      "0 1\n",
      "0 2\n",
      "0 3\n",
      "0 4\n",
      "0 5\n",
      "0 6\n",
      "0 7\n",
      "0 8\n",
      "0 9\n",
      "0 10\n",
      "1 0\n",
      "1 1\n",
      "1 2\n",
      "1 3\n",
      "1 4\n",
      "1 5\n",
      "1 6\n",
      "1 7\n",
      "1 8\n",
      "1 9\n",
      "1 10\n",
      "2 0\n",
      "2 1\n",
      "2 2\n",
      "2 3\n",
      "2 4\n",
      "2 5\n",
      "2 6\n",
      "2 7\n",
      "2 8\n",
      "2 9\n",
      "2 10\n",
      "3 0\n",
      "3 1\n",
      "3 2\n",
      "3 3\n",
      "3 4\n",
      "3 5\n",
      "3 6\n",
      "3 7\n",
      "3 8\n",
      "3 9\n",
      "3 10\n",
      "4 0\n",
      "4 1\n",
      "4 2\n",
      "4 3\n",
      "4 4\n",
      "4 5\n",
      "4 6\n",
      "4 7\n",
      "4 8\n",
      "4 9\n",
      "4 10\n",
      "5 0\n",
      "5 1\n",
      "5 2\n",
      "5 3\n",
      "5 4\n",
      "5 5\n",
      "5 6\n",
      "5 7\n",
      "5 8\n",
      "5 9\n",
      "5 10\n",
      "6 0\n",
      "6 1\n",
      "6 2\n",
      "6 3\n",
      "6 4\n",
      "6 5\n",
      "6 6\n",
      "6 7\n",
      "6 8\n",
      "6 9\n",
      "6 10\n",
      "7 0\n",
      "7 1\n",
      "7 2\n",
      "7 3\n",
      "7 4\n",
      "7 5\n",
      "7 6\n",
      "7 7\n",
      "7 8\n",
      "7 9\n",
      "7 10\n",
      "8 0\n",
      "8 1\n",
      "8 2\n",
      "8 3\n",
      "8 4\n",
      "8 5\n",
      "8 6\n",
      "8 7\n",
      "8 8\n",
      "8 9\n",
      "8 10\n",
      "9 0\n",
      "9 1\n",
      "9 2\n",
      "9 3\n",
      "9 4\n",
      "9 5\n",
      "9 6\n",
      "9 7\n",
      "9 8\n",
      "9 9\n",
      "9 10\n",
      "10 0\n",
      "10 1\n",
      "10 2\n",
      "10 3\n",
      "10 4\n",
      "10 5\n",
      "10 6\n",
      "10 7\n",
      "10 8\n",
      "10 9\n",
      "10 10\n"
     ]
    }
   ],
   "source": [
    "for i in range(len(C_range)):\n",
    "    C = C_range[i]\n",
    "    for j in range(len(gamma_range)):\n",
    "        print(i,j)\n",
    "        gamma = gamma_range[j]\n",
    "        \n",
    "        clf = svm.SVC(kernel='rbf', C=C, gamma=gamma)\n",
    "        clf.fit(X_train, y_train)\n",
    "        score = clf.score(X_test, y_test)\n",
    "        scores[i][j] = score"
   ]
  },
  {
   "cell_type": "code",
   "execution_count": 48,
   "metadata": {
    "scrolled": false
   },
   "outputs": [
    {
     "data": {
      "text/plain": [
       "array([[0.87064677, 0.87064677, 0.87064677, 0.87064677, 0.87064677,\n",
       "        0.87064677, 0.87064677, 0.87064677, 0.87064677, 0.87064677,\n",
       "        0.87064677],\n",
       "       [0.87064677, 0.87064677, 0.87064677, 0.87064677, 0.87064677,\n",
       "        0.87064677, 0.87064677, 0.87064677, 0.87064677, 0.87064677,\n",
       "        0.87064677],\n",
       "       [0.87064677, 0.87064677, 0.87064677, 0.87064677, 0.87064677,\n",
       "        0.87064677, 0.87064677, 0.87064677, 0.87064677, 0.87064677,\n",
       "        0.87064677],\n",
       "       [0.87064677, 0.87064677, 0.87064677, 0.87064677, 0.87064677,\n",
       "        0.91044776, 0.93248045, 0.87775409, 0.87064677, 0.87064677,\n",
       "        0.87064677],\n",
       "       [0.87064677, 0.87064677, 0.87064677, 0.87064677, 0.91329069,\n",
       "        0.93816631, 0.9445629 , 0.88201848, 0.87064677, 0.87064677,\n",
       "        0.87064677],\n",
       "       [0.87064677, 0.87064677, 0.87064677, 0.91186923, 0.93532338,\n",
       "        0.9466951 , 0.93816631, 0.88201848, 0.87064677, 0.87064677,\n",
       "        0.87064677],\n",
       "       [0.87064677, 0.87064677, 0.91186923, 0.93176972, 0.93958778,\n",
       "        0.94740583, 0.93887704, 0.88201848, 0.87064677, 0.87064677,\n",
       "        0.87064677],\n",
       "       [0.87064677, 0.91257996, 0.93105899, 0.93319119, 0.94953802,\n",
       "        0.94882729, 0.93887704, 0.88201848, 0.87064677, 0.87064677,\n",
       "        0.87064677],\n",
       "       [0.91115849, 0.93105899, 0.93532338, 0.94171997, 0.95522388,\n",
       "        0.93958778, 0.93887704, 0.88201848, 0.87064677, 0.87064677,\n",
       "        0.87064677],\n",
       "       [0.92892679, 0.93816631, 0.94100924, 0.94171997, 0.9445629 ,\n",
       "        0.93745558, 0.93887704, 0.88201848, 0.87064677, 0.87064677,\n",
       "        0.87064677],\n",
       "       [0.92821606, 0.93745558, 0.93958778, 0.93816631, 0.94527363,\n",
       "        0.93745558, 0.93887704, 0.88201848, 0.87064677, 0.87064677,\n",
       "        0.87064677]])"
      ]
     },
     "execution_count": 48,
     "metadata": {},
     "output_type": "execute_result"
    }
   ],
   "source": [
    "scores"
   ]
  },
  {
   "cell_type": "code",
   "execution_count": 49,
   "metadata": {},
   "outputs": [
    {
     "data": {
      "text/plain": [
       "<Figure size 576x576 with 0 Axes>"
      ]
     },
     "metadata": {},
     "output_type": "display_data"
    },
    {
     "data": {
      "image/png": "[encoded data removed]",
      "text/plain": [
       "<Figure size 432x288 with 2 Axes>"
      ]
     },
     "metadata": {
      "needs_background": "light"
     },
     "output_type": "display_data"
    }
   ],
   "source": [
    "plt.figure(figsize=(8,8))\n",
    "fig, ax = plt.subplots()\n",
    "plt.imshow(scores, interpolation='nearest', cmap=plt.cm.hot)\n",
    "plt.colorbar()\n",
    "plt.yticks(np.arange(len(gamma_range)), gamma_range, rotation=45)\n",
    "plt.xticks(np.arange(len(C_range)), C_range)\n",
    "ax.set_ylim(scores.shape[0]-0.5, -0.5)\n",
    "plt.ylabel('gamma')\n",
    "plt.xlabel('C')\n",
    "\n",
    "plt.show()"
   ]
  },
  {
   "cell_type": "markdown",
   "metadata": {},
   "source": [
    "### Cross-validation"
   ]
  },
  {
   "cell_type": "code",
   "execution_count": 50,
   "metadata": {},
   "outputs": [],
   "source": [
    "k_fold = 10\n",
    "id_train = [[]] * k_fold\n",
    "id_val = [[]] * k_fold\n",
    "n_train = X_train.shape[0]\n",
    "for m in range(k_fold):\n",
    "    id_val[m] = range(m, n_train, k_fold) # Indices of k_fold validation sets.\n",
    "    id_train[m] = np.setdiff1d(range(n_train), id_val[m])"
   ]
  },
  {
   "cell_type": "code",
   "execution_count": 51,
   "metadata": {},
   "outputs": [],
   "source": [
    "n = 7\n",
    "m = 7\n",
    "C_range = np.logspace(-1, 5, n)\n",
    "gamma_range = np.logspace(-5, 1, m)\n",
    "scores = np.zeros((n,m))"
   ]
  },
  {
   "cell_type": "code",
   "execution_count": 52,
   "metadata": {},
   "outputs": [],
   "source": [
    "def kfold_cv(k_fold, gamma, C):\n",
    "    Scores = []\n",
    "    for m in range(k_fold):\n",
    "        X_train_cur = X_train[id_train[m]]\n",
    "        y_train_cur = y_train[id_train[m]]\n",
    "        X_val_cur = X_train[id_val[m]]\n",
    "        y_val_cur = y_train[id_val[m]]\n",
    "        \n",
    "        clf = svm.SVC(kernel='rbf', C=C, gamma=gamma)\n",
    "        clf.fit(X_train_cur, y_train_cur)\n",
    "        score = clf.score(X_val_cur, y_val_cur)\n",
    "        Scores.append(score)\n",
    "    print(Scores)\n",
    "    return np.mean(Scores)"
   ]
  },
  {
   "cell_type": "code",
   "execution_count": 53,
   "metadata": {
    "scrolled": false
   },
   "outputs": [
    {
     "name": "stdout",
     "output_type": "stream",
     "text": [
      "0 0\n",
      "[0.8658536585365854, 0.8323170731707317, 0.8262195121951219, 0.8292682926829268, 0.8201219512195121, 0.7987804878048781, 0.8445121951219512, 0.8079268292682927, 0.8109756097560976, 0.8170731707317073]\n",
      "0 1\n",
      "[0.8658536585365854, 0.8323170731707317, 0.8262195121951219, 0.8292682926829268, 0.8201219512195121, 0.7987804878048781, 0.8445121951219512, 0.8079268292682927, 0.8109756097560976, 0.8170731707317073]\n",
      "0 2\n",
      "[0.8658536585365854, 0.8323170731707317, 0.8262195121951219, 0.8292682926829268, 0.8201219512195121, 0.7987804878048781, 0.8445121951219512, 0.8079268292682927, 0.8109756097560976, 0.8170731707317073]\n",
      "0 3\n",
      "[0.8658536585365854, 0.8323170731707317, 0.8262195121951219, 0.8292682926829268, 0.8201219512195121, 0.7987804878048781, 0.8445121951219512, 0.8079268292682927, 0.8109756097560976, 0.8170731707317073]\n",
      "0 4\n",
      "[0.8658536585365854, 0.8323170731707317, 0.8262195121951219, 0.8292682926829268, 0.8201219512195121, 0.7987804878048781, 0.8445121951219512, 0.8079268292682927, 0.8109756097560976, 0.8170731707317073]\n",
      "0 5\n",
      "[0.8658536585365854, 0.8353658536585366, 0.8292682926829268, 0.8353658536585366, 0.8201219512195121, 0.801829268292683, 0.8445121951219512, 0.8079268292682927, 0.8109756097560976, 0.8201219512195121]\n",
      "0 6\n",
      "[0.8658536585365854, 0.8323170731707317, 0.8262195121951219, 0.8292682926829268, 0.8201219512195121, 0.7987804878048781, 0.8445121951219512, 0.8079268292682927, 0.8109756097560976, 0.8170731707317073]\n",
      "1 0\n",
      "[0.8658536585365854, 0.8323170731707317, 0.8262195121951219, 0.8292682926829268, 0.8201219512195121, 0.7987804878048781, 0.8445121951219512, 0.8079268292682927, 0.8109756097560976, 0.8170731707317073]\n",
      "1 1\n",
      "[0.8658536585365854, 0.8323170731707317, 0.8262195121951219, 0.8292682926829268, 0.8201219512195121, 0.7987804878048781, 0.8445121951219512, 0.8079268292682927, 0.8109756097560976, 0.8170731707317073]\n",
      "1 2\n",
      "[0.8658536585365854, 0.8323170731707317, 0.8262195121951219, 0.8292682926829268, 0.8201219512195121, 0.7987804878048781, 0.8445121951219512, 0.8079268292682927, 0.8109756097560976, 0.8170731707317073]\n",
      "1 3\n",
      "[0.8658536585365854, 0.8323170731707317, 0.8262195121951219, 0.8292682926829268, 0.8201219512195121, 0.7987804878048781, 0.8445121951219512, 0.8079268292682927, 0.8109756097560976, 0.8170731707317073]\n",
      "1 4\n",
      "[0.8963414634146342, 0.8780487804878049, 0.8963414634146342, 0.8871951219512195, 0.8628048780487805, 0.8597560975609756, 0.9054878048780488, 0.875, 0.8658536585365854, 0.8658536585365854]\n",
      "1 5\n",
      "[0.926829268292683, 0.9085365853658537, 0.9146341463414634, 0.9298780487804879, 0.9207317073170732, 0.9115853658536586, 0.9298780487804879, 0.9329268292682927, 0.9176829268292683, 0.9115853658536586]\n",
      "1 6\n",
      "[0.8902439024390244, 0.850609756097561, 0.8445121951219512, 0.8597560975609756, 0.8567073170731707, 0.8414634146341463, 0.8628048780487805, 0.8414634146341463, 0.8201219512195121, 0.8445121951219512]\n",
      "2 0\n",
      "[0.8658536585365854, 0.8323170731707317, 0.8262195121951219, 0.8292682926829268, 0.8201219512195121, 0.7987804878048781, 0.8445121951219512, 0.8079268292682927, 0.8109756097560976, 0.8170731707317073]\n",
      "2 1\n",
      "[0.8658536585365854, 0.8323170731707317, 0.8262195121951219, 0.8292682926829268, 0.8201219512195121, 0.7987804878048781, 0.8445121951219512, 0.8079268292682927, 0.8109756097560976, 0.8170731707317073]\n",
      "2 2\n",
      "[0.8658536585365854, 0.8323170731707317, 0.8262195121951219, 0.8292682926829268, 0.8201219512195121, 0.7987804878048781, 0.8445121951219512, 0.8079268292682927, 0.8109756097560976, 0.8170731707317073]\n",
      "2 3\n",
      "[0.8932926829268293, 0.8780487804878049, 0.8932926829268293, 0.8841463414634146, 0.8719512195121951, 0.8597560975609756, 0.8932926829268293, 0.8689024390243902, 0.8689024390243902, 0.8567073170731707]\n",
      "2 4\n",
      "[0.9237804878048781, 0.9146341463414634, 0.926829268292683, 0.9146341463414634, 0.9359756097560976, 0.9359756097560976, 0.9329268292682927, 0.9176829268292683, 0.926829268292683, 0.8810975609756098]\n",
      "2 5\n",
      "[0.9146341463414634, 0.9115853658536586, 0.9207317073170732, 0.9329268292682927, 0.926829268292683, 0.9146341463414634, 0.9176829268292683, 0.9237804878048781, 0.9207317073170732, 0.9298780487804879]\n",
      "2 6\n",
      "[0.899390243902439, 0.875, 0.8628048780487805, 0.8689024390243902, 0.8719512195121951, 0.8414634146341463, 0.875, 0.8628048780487805, 0.8384146341463414, 0.8536585365853658]\n",
      "3 0\n",
      "[0.8658536585365854, 0.8323170731707317, 0.8262195121951219, 0.8292682926829268, 0.8201219512195121, 0.7987804878048781, 0.8445121951219512, 0.8079268292682927, 0.8109756097560976, 0.8170731707317073]\n",
      "3 1\n",
      "[0.8658536585365854, 0.8323170731707317, 0.8262195121951219, 0.8292682926829268, 0.8201219512195121, 0.7987804878048781, 0.8445121951219512, 0.8079268292682927, 0.8109756097560976, 0.8170731707317073]\n",
      "3 2\n",
      "[0.8902439024390244, 0.8780487804878049, 0.8932926829268293, 0.8871951219512195, 0.8719512195121951, 0.8567073170731707, 0.8932926829268293, 0.8689024390243902, 0.8689024390243902, 0.8567073170731707]\n",
      "3 3\n",
      "[0.9176829268292683, 0.9054878048780488, 0.9207317073170732, 0.9024390243902439, 0.9298780487804879, 0.9237804878048781, 0.9329268292682927, 0.9054878048780488, 0.9237804878048781, 0.875]\n",
      "3 4\n",
      "[0.9237804878048781, 0.9237804878048781, 0.926829268292683, 0.9390243902439024, 0.948170731707317, 0.9359756097560976, 0.948170731707317, 0.9359756097560976, 0.9298780487804879, 0.899390243902439]\n",
      "3 5\n",
      "[0.9085365853658537, 0.9115853658536586, 0.9115853658536586, 0.9207317073170732, 0.9237804878048781, 0.9024390243902439, 0.899390243902439, 0.8841463414634146, 0.9176829268292683, 0.9146341463414634]\n",
      "3 6\n",
      "[0.899390243902439, 0.875, 0.8628048780487805, 0.8689024390243902, 0.8719512195121951, 0.8414634146341463, 0.875, 0.8628048780487805, 0.8384146341463414, 0.8536585365853658]\n",
      "4 0\n",
      "[0.8658536585365854, 0.8323170731707317, 0.8262195121951219, 0.8292682926829268, 0.8201219512195121, 0.7987804878048781, 0.8445121951219512, 0.8079268292682927, 0.8109756097560976, 0.8170731707317073]\n",
      "4 1\n",
      "[0.8902439024390244, 0.875, 0.8932926829268293, 0.8871951219512195, 0.8719512195121951, 0.8567073170731707, 0.8932926829268293, 0.8689024390243902, 0.8689024390243902, 0.8567073170731707]\n",
      "4 2\n",
      "[0.9085365853658537, 0.9054878048780488, 0.9085365853658537, 0.899390243902439, 0.926829268292683, 0.9207317073170732, 0.9298780487804879, 0.9024390243902439, 0.926829268292683, 0.8689024390243902]\n",
      "4 3\n",
      "[0.9390243902439024, 0.9115853658536586, 0.9237804878048781, 0.9237804878048781, 0.9298780487804879, 0.9329268292682927, 0.9359756097560976, 0.9146341463414634, 0.9329268292682927, 0.8841463414634146]\n",
      "4 4\n",
      "[0.9207317073170732, 0.9207317073170732, 0.9207317073170732, 0.926829268292683, 0.9359756097560976, 0.926829268292683, 0.9512195121951219, 0.9329268292682927, 0.9451219512195121, 0.9237804878048781]\n",
      "4 5\n",
      "[0.9054878048780488, 0.9024390243902439, 0.9207317073170732, 0.926829268292683, 0.926829268292683, 0.9024390243902439, 0.9085365853658537, 0.8780487804878049, 0.9146341463414634, 0.9115853658536586]\n",
      "4 6\n",
      "[0.899390243902439, 0.875, 0.8628048780487805, 0.8689024390243902, 0.8719512195121951, 0.8414634146341463, 0.875, 0.8628048780487805, 0.8384146341463414, 0.8536585365853658]\n",
      "5 0\n",
      "[0.8902439024390244, 0.8780487804878049, 0.8932926829268293, 0.8902439024390244, 0.8719512195121951, 0.8567073170731707, 0.8932926829268293, 0.8689024390243902, 0.8689024390243902, 0.8567073170731707]\n",
      "5 1\n",
      "[0.9085365853658537, 0.9054878048780488, 0.9024390243902439, 0.8963414634146342, 0.926829268292683, 0.9207317073170732, 0.9298780487804879, 0.9024390243902439, 0.926829268292683, 0.8689024390243902]\n",
      "5 2\n",
      "[0.926829268292683, 0.9085365853658537, 0.9115853658536586, 0.9176829268292683, 0.9298780487804879, 0.9329268292682927, 0.9359756097560976, 0.9054878048780488, 0.9329268292682927, 0.8780487804878049]\n",
      "5 3\n",
      "[0.9207317073170732, 0.9207317073170732, 0.9176829268292683, 0.9359756097560976, 0.9451219512195121, 0.948170731707317, 0.9359756097560976, 0.9359756097560976, 0.9359756097560976, 0.899390243902439]\n",
      "5 4\n",
      "[0.9237804878048781, 0.926829268292683, 0.9359756097560976, 0.926829268292683, 0.926829268292683, 0.926829268292683, 0.9298780487804879, 0.9298780487804879, 0.9359756097560976, 0.9359756097560976]\n",
      "5 5\n",
      "[0.9054878048780488, 0.9024390243902439, 0.9207317073170732, 0.926829268292683, 0.926829268292683, 0.9024390243902439, 0.9085365853658537, 0.8780487804878049, 0.9146341463414634, 0.9115853658536586]\n",
      "5 6\n"
     ]
    },
    {
     "name": "stdout",
     "output_type": "stream",
     "text": [
      "[0.899390243902439, 0.875, 0.8628048780487805, 0.8689024390243902, 0.8719512195121951, 0.8414634146341463, 0.875, 0.8628048780487805, 0.8384146341463414, 0.8536585365853658]\n",
      "6 0\n",
      "[0.9085365853658537, 0.9024390243902439, 0.9024390243902439, 0.8932926829268293, 0.926829268292683, 0.9207317073170732, 0.9298780487804879, 0.9024390243902439, 0.9237804878048781, 0.8689024390243902]\n",
      "6 1\n",
      "[0.9176829268292683, 0.9054878048780488, 0.9115853658536586, 0.9085365853658537, 0.926829268292683, 0.9359756097560976, 0.9359756097560976, 0.9054878048780488, 0.926829268292683, 0.875]\n",
      "6 2\n",
      "[0.9298780487804879, 0.9085365853658537, 0.9298780487804879, 0.9298780487804879, 0.9359756097560976, 0.9298780487804879, 0.9329268292682927, 0.9115853658536586, 0.9298780487804879, 0.8841463414634146]\n",
      "6 3\n",
      "[0.9207317073170732, 0.9329268292682927, 0.9298780487804879, 0.9420731707317073, 0.9542682926829268, 0.9329268292682927, 0.9542682926829268, 0.9359756097560976, 0.9329268292682927, 0.8932926829268293]\n",
      "6 4\n",
      "[0.9176829268292683, 0.9451219512195121, 0.9390243902439024, 0.9359756097560976, 0.9390243902439024, 0.9237804878048781, 0.9329268292682927, 0.9298780487804879, 0.9390243902439024, 0.9390243902439024]\n",
      "6 5\n",
      "[0.9054878048780488, 0.9024390243902439, 0.9207317073170732, 0.926829268292683, 0.926829268292683, 0.9024390243902439, 0.9085365853658537, 0.8780487804878049, 0.9146341463414634, 0.9115853658536586]\n",
      "6 6\n",
      "[0.899390243902439, 0.875, 0.8628048780487805, 0.8689024390243902, 0.8719512195121951, 0.8414634146341463, 0.875, 0.8628048780487805, 0.8384146341463414, 0.8536585365853658]\n"
     ]
    }
   ],
   "source": [
    "for i in range(len(C_range)):\n",
    "    C = C_range[i]\n",
    "    for j in range(len(gamma_range)):\n",
    "        print(i,j)\n",
    "        gamma = gamma_range[j]\n",
    "        \n",
    "        score = kfold_cv(k_fold, gamma, C)\n",
    "        scores[i][j] = score"
   ]
  },
  {
   "cell_type": "code",
   "execution_count": 74,
   "metadata": {
    "scrolled": true
   },
   "outputs": [
    {
     "data": {
      "text/plain": [
       "array([[0.82530488, 0.82530488, 0.82530488, 0.82530488, 0.82530488,\n",
       "        0.82713415, 0.82530488],\n",
       "       [0.82530488, 0.82530488, 0.82530488, 0.82530488, 0.87926829,\n",
       "        0.92042683, 0.85121951],\n",
       "       [0.82530488, 0.82530488, 0.82530488, 0.87682927, 0.92103659,\n",
       "        0.92134146, 0.86493902],\n",
       "       [0.82530488, 0.82530488, 0.87652439, 0.91371951, 0.93109756,\n",
       "        0.90945122, 0.86493902],\n",
       "       [0.82530488, 0.87621951, 0.9097561 , 0.92286585, 0.9304878 ,\n",
       "        0.9097561 , 0.86493902],\n",
       "       [0.87682927, 0.90884146, 0.9179878 , 0.92957317, 0.92987805,\n",
       "        0.9097561 , 0.86493902],\n",
       "       [0.90792683, 0.91493902, 0.9222561 , 0.93292683, 0.93414634,\n",
       "        0.9097561 , 0.86493902]])"
      ]
     },
     "execution_count": 74,
     "metadata": {},
     "output_type": "execute_result"
    }
   ],
   "source": [
    "scores_rbf = scores\n",
    "scores_rbf"
   ]
  },
  {
   "cell_type": "code",
   "execution_count": 78,
   "metadata": {},
   "outputs": [
    {
     "data": {
      "image/png": "[encoded data removed]",
      "text/plain": [
       "<Figure size 360x360 with 2 Axes>"
      ]
     },
     "metadata": {
      "needs_background": "light"
     },
     "output_type": "display_data"
    }
   ],
   "source": [
    "fig = plt.figure(figsize=(5,5))\n",
    "ax = plt.subplot(111)\n",
    "plt.imshow(scores_rbf, interpolation='nearest', cmap=plt.cm.hot)\n",
    "plt.colorbar()\n",
    "plt.yticks(np.arange(len(gamma_range)), gamma_range)\n",
    "plt.xticks(np.arange(len(C_range)), C_range, rotation=45)\n",
    "ax.set_ylim(scores.shape[0]-0.5, -0.5)\n",
    "plt.ylabel(\"gamma\")\n",
    "plt.xlabel(\"C\")\n",
    "plt.show()\n",
    "fig.savefig(\"svm_rvf.png\")"
   ]
  },
  {
   "cell_type": "code",
   "execution_count": 77,
   "metadata": {},
   "outputs": [
    {
     "name": "stdout",
     "output_type": "stream",
     "text": [
      "Training accuracy: 94.54 %\n",
      "Testing accuracy: 94.67 %\n"
     ]
    }
   ],
   "source": [
    "C = 100\n",
    "gamma = 0.1\n",
    "clf = svm.SVC(kernel='rbf', C=C, gamma=gamma)\n",
    "clf.fit(X_train, y_train)\n",
    "score = clf.score(X_train, y_train)\n",
    "print(\"Training accuracy:\", np.round(score*100, 2), \"%\")\n",
    "score = clf.score(X_test, y_test)\n",
    "print(\"Testing accuracy:\", np.round(score*100, 2), \"%\")"
   ]
  },
  {
   "cell_type": "markdown",
   "metadata": {},
   "source": [
    "### 2. Kernel = poly\n",
    "<!-- $K(u,v) = \\exp(-\\gamma||u-v||^2)$ -->\n",
    "$K(u,v) = poly$"
   ]
  },
  {
   "cell_type": "code",
   "execution_count": 79,
   "metadata": {},
   "outputs": [],
   "source": [
    "# n = 7\n",
    "# C_range = np.logspace(-5, 7, n)\n",
    "# gamma_range = np.logspace(-5, 7, n)\n",
    "# scores = np.zeros((n,n))\n",
    "\n",
    "n = 5\n",
    "\n",
    "d_range = np.linspace(1, 5, n)\n",
    "co_range = np.logspace(-2, 2, n)\n",
    "scores = np.zeros((n,n))"
   ]
  },
  {
   "cell_type": "code",
   "execution_count": 80,
   "metadata": {
    "scrolled": false
   },
   "outputs": [
    {
     "name": "stdout",
     "output_type": "stream",
     "text": [
      "0 0\n",
      "0 1\n",
      "0 2\n",
      "0 3\n",
      "0 4\n",
      "1 0\n",
      "1 1\n",
      "1 2\n",
      "1 3\n",
      "1 4\n",
      "2 0\n",
      "2 1\n",
      "2 2\n",
      "2 3\n",
      "2 4\n",
      "3 0\n",
      "3 1\n",
      "3 2\n",
      "3 3\n",
      "3 4\n",
      "4 0\n",
      "4 1\n",
      "4 2\n",
      "4 3\n",
      "4 4\n"
     ]
    }
   ],
   "source": [
    "for i in range(len(d_range)):\n",
    "    d = d_range[i]\n",
    "    for j in range(len(co_range)):\n",
    "        print(i,j)\n",
    "        co = co_range[j]\n",
    "        \n",
    "        clf = svm.SVC(kernel='poly', degree = d, coef0 = co, gamma='auto')\n",
    "        clf.fit(X_train, y_train)\n",
    "        score = clf.score(X_test, y_test)\n",
    "        scores[i][j] = score"
   ]
  },
  {
   "cell_type": "code",
   "execution_count": 81,
   "metadata": {
    "scrolled": true
   },
   "outputs": [
    {
     "data": {
      "text/plain": [
       "array([[0.87064677, 0.87064677, 0.87064677, 0.87064677, 0.87064677],\n",
       "       [0.87064677, 0.87064677, 0.8891258 , 0.9246624 , 0.93319119],\n",
       "       [0.87064677, 0.87064677, 0.91329069, 0.93887704, 0.9466951 ],\n",
       "       [0.87064677, 0.87064677, 0.92608387, 0.94882729, 0.93745558],\n",
       "       [0.87064677, 0.87064677, 0.93034826, 0.95451315, 0.9445629 ]])"
      ]
     },
     "execution_count": 81,
     "metadata": {},
     "output_type": "execute_result"
    }
   ],
   "source": [
    "scores"
   ]
  },
  {
   "cell_type": "code",
   "execution_count": 82,
   "metadata": {},
   "outputs": [
    {
     "data": {
      "text/plain": [
       "array([[  1.01,   1.1 ,   2.  ,  11.  , 101.  ],\n",
       "       [  2.01,   2.1 ,   3.  ,  12.  , 102.  ],\n",
       "       [  3.01,   3.1 ,   4.  ,  13.  , 103.  ],\n",
       "       [  4.01,   4.1 ,   5.  ,  14.  , 104.  ],\n",
       "       [  5.01,   5.1 ,   6.  ,  15.  , 105.  ]])"
      ]
     },
     "execution_count": 82,
     "metadata": {},
     "output_type": "execute_result"
    }
   ],
   "source": [
    "cord = np.zeros((n,n))\n",
    "for i in range(len(d_range)):\n",
    "    for j in range(len(co_range)):\n",
    "        cord[i][j] = d_range[i]+co_range[j]\n",
    "cord"
   ]
  },
  {
   "cell_type": "code",
   "execution_count": 85,
   "metadata": {},
   "outputs": [
    {
     "data": {
      "image/png": "[encoded data removed]",
      "text/plain": [
       "<Figure size 432x432 with 2 Axes>"
      ]
     },
     "metadata": {
      "needs_background": "light"
     },
     "output_type": "display_data"
    }
   ],
   "source": [
    "fig = plt.figure(figsize=(6,6))\n",
    "ax = plt.subplot(111)\n",
    "plt.imshow(scores, interpolation='nearest', cmap=plt.cm.hot)\n",
    "plt.colorbar()\n",
    "plt.yticks(np.arange(len(d_range)), d_range)\n",
    "plt.xticks(np.arange(len(co_range)), co_range)\n",
    "ax.set_ylim(scores.shape[0]-0.5, -0.5)\n",
    "plt.ylabel(\"degree\")\n",
    "plt.xlabel(\"coefficient\")\n",
    "plt.show()"
   ]
  },
  {
   "cell_type": "markdown",
   "metadata": {},
   "source": [
    "### Cross-validation"
   ]
  },
  {
   "cell_type": "code",
   "execution_count": 86,
   "metadata": {},
   "outputs": [],
   "source": [
    "k_fold = 10\n",
    "id_train = [[]] * k_fold\n",
    "id_val = [[]] * k_fold\n",
    "n_train = X_train.shape[0]\n",
    "for m in range(k_fold):\n",
    "    id_val[m] = range(m, n_train, k_fold) # Indices of k_fold validation sets.\n",
    "    id_train[m] = np.setdiff1d(range(n_train), id_val[m])"
   ]
  },
  {
   "cell_type": "code",
   "execution_count": 87,
   "metadata": {},
   "outputs": [],
   "source": [
    "def kfold_cv_poly(k_fold, d, co):\n",
    "    Scores = []\n",
    "    for m in range(k_fold):\n",
    "        X_train_cur = X_train[id_train[m]]\n",
    "        y_train_cur = y_train[id_train[m]]\n",
    "        X_val_cur = X_train[id_val[m]]\n",
    "        y_val_cur = y_train[id_val[m]]\n",
    "        \n",
    "        clf = svm.SVC(kernel='poly', degree=d, coef0=co, gamma='auto')\n",
    "        clf.fit(X_train_cur, y_train_cur)\n",
    "        score = clf.score(X_val_cur, y_val_cur)\n",
    "        Scores.append(score)\n",
    "    print(Scores)\n",
    "    return np.mean(Scores)"
   ]
  },
  {
   "cell_type": "code",
   "execution_count": 88,
   "metadata": {
    "scrolled": false
   },
   "outputs": [
    {
     "name": "stdout",
     "output_type": "stream",
     "text": [
      "0 0\n",
      "[0.8658536585365854, 0.8323170731707317, 0.8262195121951219, 0.8292682926829268, 0.8201219512195121, 0.7987804878048781, 0.8445121951219512, 0.8079268292682927, 0.8109756097560976, 0.8170731707317073]\n",
      "0 1\n",
      "[0.8658536585365854, 0.8323170731707317, 0.8262195121951219, 0.8292682926829268, 0.8201219512195121, 0.7987804878048781, 0.8445121951219512, 0.8079268292682927, 0.8109756097560976, 0.8170731707317073]\n",
      "0 2\n",
      "[0.8658536585365854, 0.8323170731707317, 0.8262195121951219, 0.8292682926829268, 0.8201219512195121, 0.7987804878048781, 0.8445121951219512, 0.8079268292682927, 0.8109756097560976, 0.8170731707317073]\n",
      "0 3\n",
      "[0.8658536585365854, 0.8323170731707317, 0.8262195121951219, 0.8292682926829268, 0.8201219512195121, 0.7987804878048781, 0.8445121951219512, 0.8079268292682927, 0.8109756097560976, 0.8170731707317073]\n",
      "0 4\n",
      "[0.8658536585365854, 0.8323170731707317, 0.8262195121951219, 0.8292682926829268, 0.8201219512195121, 0.7987804878048781, 0.8445121951219512, 0.8079268292682927, 0.8109756097560976, 0.8170731707317073]\n",
      "1 0\n",
      "[0.8658536585365854, 0.8323170731707317, 0.8262195121951219, 0.8292682926829268, 0.8201219512195121, 0.7987804878048781, 0.8445121951219512, 0.8079268292682927, 0.8109756097560976, 0.8170731707317073]\n",
      "1 1\n",
      "[0.8658536585365854, 0.8323170731707317, 0.8262195121951219, 0.8292682926829268, 0.8201219512195121, 0.7987804878048781, 0.8445121951219512, 0.8079268292682927, 0.8109756097560976, 0.8170731707317073]\n",
      "1 2\n",
      "[0.875, 0.8445121951219512, 0.850609756097561, 0.850609756097561, 0.8384146341463414, 0.8140243902439024, 0.8597560975609756, 0.8170731707317073, 0.8262195121951219, 0.8353658536585366]\n",
      "1 3\n",
      "[0.9115853658536586, 0.899390243902439, 0.9024390243902439, 0.8963414634146342, 0.9298780487804879, 0.9146341463414634, 0.9390243902439024, 0.9024390243902439, 0.9176829268292683, 0.875]\n",
      "1 4\n",
      "[0.9146341463414634, 0.9085365853658537, 0.9146341463414634, 0.9085365853658537, 0.9237804878048781, 0.9329268292682927, 0.9359756097560976, 0.9054878048780488, 0.9298780487804879, 0.875]\n",
      "2 0\n",
      "[0.8658536585365854, 0.8323170731707317, 0.8262195121951219, 0.8292682926829268, 0.8201219512195121, 0.7987804878048781, 0.8445121951219512, 0.8079268292682927, 0.8109756097560976, 0.8170731707317073]\n",
      "2 1\n",
      "[0.8658536585365854, 0.8323170731707317, 0.8262195121951219, 0.8292682926829268, 0.8201219512195121, 0.7987804878048781, 0.8445121951219512, 0.8079268292682927, 0.8109756097560976, 0.8170731707317073]\n",
      "2 2\n",
      "[0.8871951219512195, 0.8841463414634146, 0.8963414634146342, 0.8902439024390244, 0.875, 0.8658536585365854, 0.9085365853658537, 0.8780487804878049, 0.8780487804878049, 0.8719512195121951]\n",
      "2 3\n",
      "[0.926829268292683, 0.9054878048780488, 0.9237804878048781, 0.9176829268292683, 0.9298780487804879, 0.9390243902439024, 0.9329268292682927, 0.9115853658536586, 0.9359756097560976, 0.8810975609756098]\n",
      "2 4\n",
      "[0.926829268292683, 0.9207317073170732, 0.9298780487804879, 0.9115853658536586, 0.9390243902439024, 0.9390243902439024, 0.926829268292683, 0.9359756097560976, 0.926829268292683, 0.8902439024390244]\n",
      "3 0\n",
      "[0.8658536585365854, 0.8323170731707317, 0.8262195121951219, 0.8292682926829268, 0.8201219512195121, 0.7987804878048781, 0.8445121951219512, 0.8079268292682927, 0.8109756097560976, 0.8170731707317073]\n",
      "3 1\n",
      "[0.8658536585365854, 0.8323170731707317, 0.8262195121951219, 0.8292682926829268, 0.8201219512195121, 0.7987804878048781, 0.8445121951219512, 0.8079268292682927, 0.8109756097560976, 0.8170731707317073]\n",
      "3 2\n",
      "[0.9054878048780488, 0.899390243902439, 0.9085365853658537, 0.8871951219512195, 0.9024390243902439, 0.8963414634146342, 0.9176829268292683, 0.8963414634146342, 0.9054878048780488, 0.8780487804878049]\n",
      "3 3\n",
      "[0.9298780487804879, 0.9207317073170732, 0.9146341463414634, 0.926829268292683, 0.9451219512195121, 0.9451219512195121, 0.9451219512195121, 0.9390243902439024, 0.9329268292682927, 0.8932926829268293]\n",
      "3 4\n",
      "[0.9146341463414634, 0.9176829268292683, 0.9085365853658537, 0.9298780487804879, 0.9298780487804879, 0.9298780487804879, 0.9451219512195121, 0.9176829268292683, 0.926829268292683, 0.8902439024390244]\n",
      "4 0\n",
      "[0.8658536585365854, 0.8323170731707317, 0.8262195121951219, 0.8292682926829268, 0.8201219512195121, 0.7987804878048781, 0.8445121951219512, 0.8079268292682927, 0.8109756097560976, 0.8170731707317073]\n",
      "4 1\n",
      "[0.8658536585365854, 0.8323170731707317, 0.8262195121951219, 0.8292682926829268, 0.8201219512195121, 0.7987804878048781, 0.8445121951219512, 0.8079268292682927, 0.8109756097560976, 0.8170731707317073]\n",
      "4 2\n",
      "[0.9207317073170732, 0.9024390243902439, 0.9146341463414634, 0.9024390243902439, 0.9146341463414634, 0.9176829268292683, 0.9237804878048781, 0.9085365853658537, 0.9176829268292683, 0.8871951219512195]\n",
      "4 3\n",
      "[0.9207317073170732, 0.926829268292683, 0.9237804878048781, 0.9420731707317073, 0.9451219512195121, 0.9329268292682927, 0.9634146341463414, 0.9329268292682927, 0.9359756097560976, 0.899390243902439]\n",
      "4 4\n",
      "[0.9085365853658537, 0.9237804878048781, 0.9207317073170732, 0.9298780487804879, 0.9359756097560976, 0.9329268292682927, 0.9451219512195121, 0.9298780487804879, 0.9298780487804879, 0.8963414634146342]\n"
     ]
    }
   ],
   "source": [
    "for i in range(len(d_range)):\n",
    "    d = d_range[i]\n",
    "    for j in range(len(co_range)):\n",
    "        print(i,j)\n",
    "        co = co_range[j]\n",
    "        \n",
    "        score = kfold_cv_poly(k_fold, d, co)\n",
    "        scores[i][j] = score"
   ]
  },
  {
   "cell_type": "code",
   "execution_count": 89,
   "metadata": {
    "scrolled": true
   },
   "outputs": [
    {
     "data": {
      "text/plain": [
       "array([[0.82530488, 0.82530488, 0.82530488, 0.82530488, 0.82530488],\n",
       "       [0.82530488, 0.82530488, 0.84115854, 0.90884146, 0.91493902],\n",
       "       [0.82530488, 0.82530488, 0.88353659, 0.92042683, 0.92469512],\n",
       "       [0.82530488, 0.82530488, 0.89969512, 0.92926829, 0.92103659],\n",
       "       [0.82530488, 0.82530488, 0.91097561, 0.93231707, 0.92530488]])"
      ]
     },
     "execution_count": 89,
     "metadata": {},
     "output_type": "execute_result"
    }
   ],
   "source": [
    "scores_poly = scores\n",
    "scores_poly"
   ]
  },
  {
   "cell_type": "code",
   "execution_count": 91,
   "metadata": {},
   "outputs": [
    {
     "data": {
      "image/png": "[encoded data removed]",
      "text/plain": [
       "<Figure size 576x576 with 2 Axes>"
      ]
     },
     "metadata": {
      "needs_background": "light"
     },
     "output_type": "display_data"
    }
   ],
   "source": [
    "fig = plt.figure(figsize=(8,8))\n",
    "ax = plt.subplot(111)\n",
    "plt.imshow(scores_poly, interpolation='nearest', cmap=plt.cm.hot)\n",
    "plt.colorbar()\n",
    "plt.yticks(np.arange(len(d_range)), d_range, rotation=45)\n",
    "plt.xticks(np.arange(len(co_range)), co_range)\n",
    "ax.set_ylim(scores.shape[0]-0.5, -0.5)\n",
    "plt.ylabel(\"degree\")\n",
    "plt.xlabel(\"coefficient\")\n",
    "plt.show()"
   ]
  },
  {
   "cell_type": "code",
   "execution_count": 92,
   "metadata": {},
   "outputs": [
    {
     "name": "stdout",
     "output_type": "stream",
     "text": [
      "Training accuracy: 94.09 %\n",
      "Testing accuracy: 94.88 %\n"
     ]
    }
   ],
   "source": [
    "d = 4\n",
    "co = 10\n",
    "clf = svm.SVC(kernel='poly', degree=d, coef0=co, gamma='auto')\n",
    "clf.fit(X_train, y_train)\n",
    "score = clf.score(X_train, y_train)\n",
    "print(\"Training accuracy:\", np.round(score*100, 2), \"%\")\n",
    "score = clf.score(X_test, y_test)\n",
    "print(\"Testing accuracy:\", np.round(score*100, 2), \"%\")"
   ]
  },
  {
   "cell_type": "code",
   "execution_count": 93,
   "metadata": {},
   "outputs": [
    {
     "name": "stdout",
     "output_type": "stream",
     "text": [
      "Training accuracy: 95.61 %\n",
      "Testing accuracy: 95.45 %\n"
     ]
    }
   ],
   "source": [
    "d = 5\n",
    "co = 10\n",
    "clf = svm.SVC(kernel='poly', degree=d, coef0=co, gamma='auto')\n",
    "clf.fit(X_train, y_train)\n",
    "score = clf.score(X_train, y_train)\n",
    "print(\"Training accuracy:\", np.round(score*100, 2), \"%\")\n",
    "score = clf.score(X_test, y_test)\n",
    "print(\"Testing accuracy:\", np.round(score*100, 2), \"%\")"
   ]
  },
  {
   "cell_type": "code",
   "execution_count": null,
   "metadata": {},
   "outputs": [],
   "source": []
  }
 ],
 "metadata": {
  "kernelspec": {
   "display_name": "Python 3",
   "language": "python",
   "name": "python3"
  },
  "language_info": {
   "codemirror_mode": {
    "name": "ipython",
    "version": 3
   },
   "file_extension": ".py",
   "mimetype": "text/x-python",
   "name": "python",
   "nbconvert_exporter": "python",
   "pygments_lexer": "ipython3",
   "version": "3.7.5"
  }
 },
 "nbformat": 4,
 "nbformat_minor": 4
}
